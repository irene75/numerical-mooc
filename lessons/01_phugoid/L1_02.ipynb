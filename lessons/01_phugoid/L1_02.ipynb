{
 "metadata": {
  "name": "",
  "signature": "sha256:e102ef28c90e02d29f0820699b890d1c66b9880f23a18824b96a0a5dd8f48092"
 },
 "nbformat": 3,
 "nbformat_minor": 0,
 "worksheets": [
  {
   "cells": [
    {
     "cell_type": "code",
     "collapsed": false,
     "input": [
      "import numpy as np\n",
      "import matplotlib.pyplot as plt\n",
      "%matplotlib inline"
     ],
     "language": "python",
     "metadata": {},
     "outputs": [],
     "prompt_number": 1
    },
    {
     "cell_type": "heading",
     "level": 2,
     "metadata": {},
     "source": [
      "Discretization"
     ]
    },
    {
     "cell_type": "markdown",
     "metadata": {},
     "source": [
      "Building the grid:"
     ]
    },
    {
     "cell_type": "code",
     "collapsed": false,
     "input": [
      "T = 100.0  #final time\n",
      "dt = 0.01  #time step\n",
      "N = int(T/dt)+1  #number of steps + 1 for the initial condition\n",
      "t = np.linspace(0.0, T, N)  #grid\n",
      "\n",
      "# building the grid with np.arange\n",
      "# t = np.arange(0.0, T+dt, dt)"
     ],
     "language": "python",
     "metadata": {},
     "outputs": [],
     "prompt_number": 2
    },
    {
     "cell_type": "heading",
     "level": 2,
     "metadata": {},
     "source": [
      "Euler's method"
     ]
    },
    {
     "cell_type": "code",
     "collapsed": false,
     "input": [
      "# initial conditions\n",
      "z0 = 100.  #altitude\n",
      "v = 10.  #upward velocity resulting from gust\n",
      "zt = 100.\n",
      "g = 9.81\n",
      "\n",
      "u = np.array([z0, v])\n",
      "\n",
      "# initialize an array to hold the changing z values\n",
      "z = np.zeros(N)  #same size as number of time steps, initialize in zeros\n",
      "z[0] = z0  #initial condition"
     ],
     "language": "python",
     "metadata": {},
     "outputs": [],
     "prompt_number": 3
    },
    {
     "cell_type": "code",
     "collapsed": false,
     "input": [
      "def euler(u, z):\n",
      "    \"\"\"Returns the numerical solution for the equations of the phugoid oscillation\n",
      "    calculated by Euler's method\n",
      "    \n",
      "    Parameters\n",
      "    ----------\n",
      "    u : array of float\n",
      "        initial conditions [z0, v].\n",
      "    z : array of float\n",
      "        solution vector initialized in zeros and assigned initial altitude z0 at z[0]\n",
      "        \n",
      "    Returns\n",
      "    _______\n",
      "    z : array of float\n",
      "        solution vector.\n",
      "    \"\"\"\n",
      "    for n in range(1, len(z)):\n",
      "        u = u + dt*np.array([u[1], g*(1-u[0]/zt)])\n",
      "        z[n] = u[0]\n",
      "    \n",
      "    return z"
     ],
     "language": "python",
     "metadata": {},
     "outputs": [],
     "prompt_number": 4
    },
    {
     "cell_type": "code",
     "collapsed": false,
     "input": [
      "# time-loop using Euler's method\n",
      "\"\"\"\n",
      "for n in range(1, N):\n",
      "    u = u + dt*np.array([u[1], g*(1-u[0]/zt)])\n",
      "    z[n] = u[0]\n",
      "\"\"\"\n",
      "\n",
      "# calling the function euler()\n",
      "z = euler(u, z)"
     ],
     "language": "python",
     "metadata": {},
     "outputs": [],
     "prompt_number": 5
    },
    {
     "cell_type": "heading",
     "level": 2,
     "metadata": {},
     "source": [
      "Plot the solution"
     ]
    },
    {
     "cell_type": "code",
     "collapsed": false,
     "input": [
      "plt.figure(figsize=(10,4))   #set plot size\n",
      "plt.ylim(40,160)             #y-axis plot limits\n",
      "plt.tick_params(axis='both', labelsize=14) #increase font size for ticks\n",
      "plt.xlabel('t', fontsize=14) #x label\n",
      "plt.ylabel('z', fontsize=14) #y label\n",
      "plt.plot(t,z, 'k-');"
     ],
     "language": "python",
     "metadata": {},
     "outputs": [
      {
       "metadata": {},
       "output_type": "display_data",
       "png": "[encoded data removed]",
       "text": [
        "<matplotlib.figure.Figure at 0x6778990>"
       ]
      }
     ],
     "prompt_number": 6
    },
    {
     "cell_type": "heading",
     "level": 2,
     "metadata": {},
     "source": [
      "Explore"
     ]
    },
    {
     "cell_type": "markdown",
     "metadata": {},
     "source": [
      "Changing the value of $v$ in the initial conditions:\n",
      "\n",
      "* What happens when you have a larger gust? Oscillations have bigger amplitude but there is no effect on period.\n",
      "\n",
      "* What about a smaller gust? Oscillations have a smaller amplitude but there is no effect on period either. \n",
      "\n",
      "* What happens if there isn't a gust ($v = 0$)? The trajectory is a straight line at altitude z0."
     ]
    },
    {
     "cell_type": "heading",
     "level": 2,
     "metadata": {},
     "source": [
      "The exact solution"
     ]
    },
    {
     "cell_type": "markdown",
     "metadata": {},
     "source": [
      "The equation for phugoid oscillations is a 2nd-order, linear ODE, and it has a exact solution of the following form:\n",
      "\n",
      "$$\n",
      "\\begin{equation}\n",
      "z(t) = A \\sin \\left(\\sqrt{\\frac{g}{z_t}} t \\right) + B \\cos \\left(\\sqrt{\\frac{g}{z_t}} t \\right) + z_t\n",
      "\\end{equation}\n",
      "$$\n",
      "\n",
      "where $A$ and $B$ are constants that depend on the initial conditions."
     ]
    },
    {
     "cell_type": "markdown",
     "metadata": {},
     "source": [
      "Our numerical solutions used the initial conditions:\n",
      "\n",
      "$$\\begin{eqnarray}\n",
      "z(0) = z_0 \\\\\n",
      "v(0) = v_0\n",
      "\\end{eqnarray}\n",
      "$$\n",
      "\n",
      "Applying these to the exact solution and solving for $A$ and $B$, we get:\n",
      "\n",
      "$$\n",
      "\\begin{equation}\n",
      "z(t) = v_0 \\sqrt{\\frac{z_t}{g}} \\sin\\left(\\sqrt{\\frac{g}{z_t}} t\\right) + (z_0 - z_t)  \\cos\\left(\\sqrt{\\frac{g}{z_t}} t\\right) + z_t\n",
      "\\end{equation}\n",
      "$$\n",
      "\n",
      "We already defined these variables, so we can compute the exact solution."
     ]
    },
    {
     "cell_type": "code",
     "collapsed": false,
     "input": [
      "z_exact = v*(zt/g)**0.5*np.sin((g/zt)**0.5*t)+\\\n",
      "          (z0-zt)*np.cos((g/zt)**0.5*t)+zt"
     ],
     "language": "python",
     "metadata": {},
     "outputs": [],
     "prompt_number": 7
    },
    {
     "cell_type": "heading",
     "level": 3,
     "metadata": {},
     "source": [
      "Plot"
     ]
    },
    {
     "cell_type": "code",
     "collapsed": false,
     "input": [
      "plt.figure(figsize=(10,4))\n",
      "plt.ylim(40,160)             #y-axis plot limits\n",
      "plt.tick_params(axis='both', labelsize=14) #increase font size for ticks\n",
      "plt.xlabel('t', fontsize=14) #x label\n",
      "plt.ylabel('z', fontsize=14) #y label\n",
      "plt.plot(t,z)\n",
      "plt.plot(t, z_exact)  #we added a 2nd plt.plot() statement\n",
      "plt.legend(['Numerical Solution','Analytical Solution']);"
     ],
     "language": "python",
     "metadata": {},
     "outputs": [
      {
       "metadata": {},
       "output_type": "display_data",
       "png": "[encoded data removed]",
       "text": [
        "<matplotlib.figure.Figure at 0x68ce950>"
       ]
      }
     ],
     "prompt_number": 8
    },
    {
     "cell_type": "markdown",
     "metadata": {},
     "source": [
      "The numerical solution looks like a good approximation, but there is more discrepancy  towards the end.\n",
      "\n",
      "\n",
      "Euler's method, like all numerical methods, introduces some errors.  If the method is *convergent*, the approximation will get closer and closer to the exact solution as we reduce the size of the step, $\\Delta t$. The error in the numerical method should tend to zero, in fact, when $\\Delta t\\rightarrow 0$\u2014when this happens, we call the method _consistent_."
     ]
    },
    {
     "cell_type": "heading",
     "level": 2,
     "metadata": {},
     "source": [
      "Convergence"
     ]
    },
    {
     "cell_type": "markdown",
     "metadata": {},
     "source": [
      "How to compare the two solutions? Use a **norm** of the difference, for example, the $L_1$ norm, which is the sum of the individual differences between the exact and the numerical solution, at each mesh point:\n",
      "\n",
      "$$\n",
      "E = \\Delta t \\sum_{n=0}^N \\left|(z(t_n)-z_n\\right|\n",
      "$$\n",
      "\n",
      "We check for convergence by calculating the numerical solution using progressively smaller values of `dt`."
     ]
    },
    {
     "cell_type": "code",
     "collapsed": false,
     "input": [
      "# time-increment array\n",
      "dt_values = np.array([0.1, 0.05, 0.01, 0.005, 0.001, 0.0001])\n",
      "\n",
      "# array that will contain solution of each grid\n",
      "z_values = np.empty_like(dt_values, dtype=np.ndarray)\n",
      "           # create an empty array in the same shape as dt_values \n",
      "           # its data type is array\n",
      "\n",
      "# enumerate returns an index and the value at that index in the iterable object\n",
      "for i, dt in enumerate(dt_values):\n",
      "    N = int(T/dt)+1  # number of time-steps\n",
      "    ### discretize the time ###\n",
      "    t = np.linspace(0.0, T, N)\n",
      "    \n",
      "    # initial conditions\n",
      "    u = np.array([z0, v])\n",
      "    z = np.empty_like(t)  # create an array in the same shape as t\n",
      "                          # it will be different for each dt\n",
      "    z[0] = z0\n",
      "    \n",
      "    # time loop - Euler method\n",
      "    \"\"\"for n in range(1,N):\n",
      "        ### compute next solution using Euler method ###\n",
      "        u = u + dt*np.array([u[1], g*(1-u[0]/zt)])\n",
      "        z[n] = u[0]   # store the elevation at time-step n+1\n",
      "        \n",
      "    z_values[i] = z.copy()  # the solution values for the i-th dt\n",
      "    \"\"\"\n",
      "    \n",
      "    ### calling the function euler() ###\n",
      "    z_values[i] = euler(u, z)"
     ],
     "language": "python",
     "metadata": {},
     "outputs": [],
     "prompt_number": 10
    },
    {
     "cell_type": "heading",
     "level": 3,
     "metadata": {},
     "source": [
      "Calculate the error"
     ]
    },
    {
     "cell_type": "code",
     "collapsed": false,
     "input": [
      "def get_error(z, dt):\n",
      "    \"\"\"Returns the error relative to analytical solution using L-1 norm.\n",
      "    \n",
      "    Parameters\n",
      "    ----------\n",
      "    z : array of float\n",
      "        numerical solution.\n",
      "    dt : float\n",
      "         time increment.\n",
      "        \n",
      "    Returns\n",
      "    _______\n",
      "    err : float\n",
      "          L_{1} norm of the error with respect to the exact solution.\n",
      "    \"\"\"\n",
      "    \n",
      "    N = len(z)\n",
      "    t = np.linspace(0.0, T, N)\n",
      "    z_exact = v*(zt/g)**0.5*np.sin((g/zt)**0.5*t)+\\\n",
      "                (z0-zt)*np.cos((g/zt)**0.5*t)+zt\n",
      "    \n",
      "    ### the following line performs an array operation;\n",
      "    ### it takes the difference between elements at each corresponding index ###\n",
      "    return dt * np.sum(np.abs(z-z_exact))\n",
      "    "
     ],
     "language": "python",
     "metadata": {},
     "outputs": [],
     "prompt_number": 11
    },
    {
     "cell_type": "markdown",
     "metadata": {},
     "source": [
      "Now, we iterate through each $\\Delta t$ value and calculate the corresponding error."
     ]
    },
    {
     "cell_type": "code",
     "collapsed": false,
     "input": [
      "error_values = np.empty_like(dt_values)\n",
      "\n",
      "for i, dt in enumerate(dt_values):\n",
      "    ### call the function get_error() ###\n",
      "    error_values[i] = get_error(z_values[i], dt)"
     ],
     "language": "python",
     "metadata": {},
     "outputs": [],
     "prompt_number": 12
    },
    {
     "cell_type": "markdown",
     "metadata": {},
     "source": [
      "Is the method convergent? The error should get smaller as $\\Delta t$ gets smaller. Let's plot $\\Delta t$ vs. error. We use a `plt.loglog` to create a plot with a log-log scale. **This is what we do almost always to assess the errors of a numerical scheme graphically.**"
     ]
    },
    {
     "cell_type": "code",
     "collapsed": false,
     "input": [
      "plt.figure(figsize=(10, 6))\n",
      "plt.tick_params(axis='both', labelsize=14) #increase tick font size\n",
      "plt.grid(True)                         #turn on grid lines\n",
      "plt.xlabel('$\\Delta t$', fontsize=16)  #x label\n",
      "plt.ylabel('Error', fontsize=16)       #y label\n",
      "plt.loglog(dt_values, error_values, 'ko-')  #log-log plot\n",
      "plt.axis('equal')                      #make axes scale equally;"
     ],
     "language": "python",
     "metadata": {},
     "outputs": [
      {
       "metadata": {},
       "output_type": "display_data",
       "png": "[encoded data removed]",
       "text": [
        "<matplotlib.figure.Figure at 0x6988790>"
       ]
      }
     ],
     "prompt_number": 13
    },
    {
     "cell_type": "markdown",
     "metadata": {},
     "source": [
      "The error gets smaller and smaller as $\\Delta t$ shrinks."
     ]
    },
    {
     "cell_type": "heading",
     "level": 5,
     "metadata": {},
     "source": [
      "Challenge"
     ]
    },
    {
     "cell_type": "markdown",
     "metadata": {},
     "source": [
      "Create a function that implements Euler's method and re-write the error analysis cell to use your function."
     ]
    },
    {
     "cell_type": "code",
     "collapsed": false,
     "input": [
      "from IPython.core.display import HTML\n",
      "css_file = '../../styles/numericalmoocstyle.css'\n",
      "HTML(open(css_file, \"r\").read())"
     ],
     "language": "python",
     "metadata": {},
     "outputs": [
      {
       "html": [
        "<link href='http://fonts.googleapis.com/css?family=Alegreya+Sans:100,300,400,500,700,800,900,100italic,300italic,400italic,500italic,700italic,800italic,900italic' rel='stylesheet' type='text/css'>\n",
        "<link href='http://fonts.googleapis.com/css?family=Arvo:400,700,400italic' rel='stylesheet' type='text/css'>\n",
        "<link href='http://fonts.googleapis.com/css?family=PT+Mono' rel='stylesheet' type='text/css'>\n",
        "<link href='http://fonts.googleapis.com/css?family=Shadows+Into+Light' rel='stylesheet' type='text/css'>\n",
        "<link href='http://fonts.googleapis.com/css?family=Nixie+One' rel='stylesheet' type='text/css'>\n",
        "<style>\n",
        "\n",
        "@font-face {\n",
        "    font-family: \"Computer Modern\";\n",
        "    src: url('http://mirrors.ctan.org/fonts/cm-unicode/fonts/otf/cmunss.otf');\n",
        "}\n",
        "\n",
        "#notebook_panel { /* main background */\n",
        "    background: rgb(245,245,245);\n",
        "}\n",
        "\n",
        "div.cell { /* set cell width */\n",
        "    width: 750px;\n",
        "}\n",
        "\n",
        "div #notebook { /* centre the content */\n",
        "    background: #fff; /* white background for content */\n",
        "    width: 1000px;\n",
        "    margin: auto;\n",
        "    padding-left: 0em;\n",
        "}\n",
        "\n",
        "#notebook li { /* More space between bullet points */\n",
        "margin-top:0.8em;\n",
        "}\n",
        "\n",
        "/* draw border around running cells */\n",
        "div.cell.border-box-sizing.code_cell.running { \n",
        "    border: 1px solid #111;\n",
        "}\n",
        "\n",
        "/* Put a solid color box around each cell and its output, visually linking them*/\n",
        "div.cell.code_cell {\n",
        "    background-color: rgb(256,256,256); \n",
        "    border-radius: 0px; \n",
        "    padding: 0.5em;\n",
        "    margin-left:1em;\n",
        "    margin-top: 1em;\n",
        "}\n",
        "\n",
        "div.text_cell_render{\n",
        "    font-family: 'Alegreya Sans' sans-serif;\n",
        "    line-height: 140%;\n",
        "    font-size: 125%;\n",
        "    font-weight: 400;\n",
        "    width:600px;\n",
        "    margin-left:auto;\n",
        "    margin-right:auto;\n",
        "}\n",
        "\n",
        "\n",
        "/* Formatting for header cells */\n",
        ".text_cell_render h1 {\n",
        "    font-family: 'Nixie One', serif;\n",
        "    font-style:regular;\n",
        "    font-weight: 400;    \n",
        "    font-size: 45pt;\n",
        "    line-height: 100%;\n",
        "    color: rgb(0,51,102);\n",
        "    margin-bottom: 0.5em;\n",
        "    margin-top: 0.5em;\n",
        "    display: block;\n",
        "}\t\n",
        ".text_cell_render h2 {\n",
        "    font-family: 'Nixie One', serif;\n",
        "    font-weight: 400;\n",
        "    font-size: 30pt;\n",
        "    line-height: 100%;\n",
        "    color: rgb(0,51,102);\n",
        "    margin-bottom: 0.1em;\n",
        "    margin-top: 0.3em;\n",
        "    display: block;\n",
        "}\t\n",
        "\n",
        ".text_cell_render h3 {\n",
        "    font-family: 'Nixie One', serif;\n",
        "    margin-top:16px;\n",
        "\tfont-size: 22pt;\n",
        "    font-weight: 600;\n",
        "    margin-bottom: 3px;\n",
        "    font-style: regular;\n",
        "    color: rgb(102,102,0);\n",
        "}\n",
        "\n",
        ".text_cell_render h4 {    /*Use this for captions*/\n",
        "    font-family: 'Nixie One', serif;\n",
        "    font-size: 14pt;\n",
        "    text-align: center;\n",
        "    margin-top: 0em;\n",
        "    margin-bottom: 2em;\n",
        "    font-style: regular;\n",
        "}\n",
        "\n",
        ".text_cell_render h5 {  /*Use this for small titles*/\n",
        "    font-family: 'Nixie One', sans-serif;\n",
        "    font-weight: 400;\n",
        "    font-size: 16pt;\n",
        "    color: rgb(163,0,0);\n",
        "    font-style: italic;\n",
        "    margin-bottom: .1em;\n",
        "    margin-top: 0.8em;\n",
        "    display: block;\n",
        "}\n",
        "\n",
        ".text_cell_render h6 { /*use this for copyright note*/\n",
        "    font-family: 'PT Mono', sans-serif;\n",
        "    font-weight: 300;\n",
        "    font-size: 9pt;\n",
        "    line-height: 100%;\n",
        "    color: grey;\n",
        "    margin-bottom: 1px;\n",
        "    margin-top: 1px;\n",
        "}\n",
        "\n",
        ".CodeMirror{\n",
        "        font-family: \"PT Mono\";\n",
        "        font-size: 90%;\n",
        "}\n",
        "\n",
        "</style>\n",
        "<script>\n",
        "    MathJax.Hub.Config({\n",
        "                        TeX: {\n",
        "                           extensions: [\"AMSmath.js\"],\n",
        "                           equationNumbers: { autoNumber: \"AMS\", useLabelIds: true}\n",
        "                           },\n",
        "                tex2jax: {\n",
        "                    inlineMath: [ ['$','$'], [\"\\\\(\",\"\\\\)\"] ],\n",
        "                    displayMath: [ ['$$','$$'], [\"\\\\[\",\"\\\\]\"] ]\n",
        "                },\n",
        "                displayAlign: 'center', // Change this to 'center' to center equations.\n",
        "                \"HTML-CSS\": {\n",
        "                    styles: {'.MathJax_Display': {\"margin\": 4}}\n",
        "                }\n",
        "        });\n",
        "</script>\n"
       ],
       "metadata": {},
       "output_type": "pyout",
       "prompt_number": 8,
       "text": [
        "<IPython.core.display.HTML at 0x2be9410>"
       ]
      }
     ],
     "prompt_number": 8
    }
   ],
   "metadata": {}
  }
 ]
}